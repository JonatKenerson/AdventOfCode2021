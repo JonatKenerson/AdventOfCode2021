{
  "nbformat": 4,
  "nbformat_minor": 0,
  "metadata": {
    "colab": {
      "name": "AoC2021Day1.ipynb",
      "provenance": [],
      "mount_file_id": "1vcBDLWivG2pTuHkcID5LNlgLIIDwvd-W",
      "authorship_tag": "ABX9TyNPg0rMJSFEf4wYrCVQGNqx",
      "include_colab_link": true
    },
    "kernelspec": {
      "name": "python3",
      "display_name": "Python 3"
    },
    "language_info": {
      "name": "python"
    }
  },
  "cells": [
    {
      "cell_type": "markdown",
      "metadata": {
        "id": "view-in-github",
        "colab_type": "text"
      },
      "source": [
        "<a href=\"https://colab.research.google.com/github/JonatKenerson/AdventOfCode2021/blob/main/AoC2021Day1.ipynb\" target=\"_parent\"><img src=\"https://colab.research.google.com/assets/colab-badge.svg\" alt=\"Open In Colab\"/></a>"
      ]
    },
    {
      "cell_type": "code",
      "metadata": {
        "colab": {
          "base_uri": "https://localhost:8080/"
        },
        "id": "D8ssF3YWALzL",
        "outputId": "4159549c-2689-4286-f79e-ba700aa697f2"
      },
      "source": [
        "with open('/content/drive/MyDrive/Colab Notebooks/Input Files/Day1Input2021.txt') as f:\n",
        "  input = f.readlines()\n",
        "\n",
        "int_input = [int(i) for i in input]\n",
        "\n",
        "#I knew to do int_input[i] > int_input[i-1] in some form but I could not get it\n",
        "#to work in a function for some reason so I put it in a list comprehension instead\n",
        "#of a for loop and it worked lmao\n",
        "\n",
        "print(\"Part 1:\")\n",
        "part_1 = sum([int_input[i] > int_input[i-1] for i in range(1, len(int_input))])\n",
        "print(part_1)\n",
        "\n",
        "#learned some stuff about indexing to help me solve part 2 basically the same way\n",
        "\n",
        "print(\"Part 2:\")\n",
        "part_2 = sum([int_input[i] > int_input[i-3] for i in range(3, len(int_input))])\n",
        "print(part_2)\n",
        "\n",
        "#Doing the list comprehension made me realize that I was missing range so I came\n",
        "#back and did it as a function just to make sure all of my previously learned\n",
        "#knowledge hadn't drained out of my ears\n",
        "\n",
        "increase_count = 0\n",
        "\n",
        "for i in range(len(int_input)-1):\n",
        "    if int_input[i+1] > int_input[i]:\n",
        "        increase_count += 1\n",
        "\n",
        "window_count = 0\n",
        "\n",
        "for i in range(len(int_input)-3):\n",
        "  if int_input[i+3] > int_input[i]:\n",
        "    window_count += 1\n",
        "\n",
        "print(\"Part 1:\", increase_count)\n",
        "print(\"Part 2:\", window_count)"
      ],
      "execution_count": 27,
      "outputs": [
        {
          "output_type": "stream",
          "name": "stdout",
          "text": [
            "Part 1:\n",
            "1167\n",
            "Part 2:\n",
            "1130\n",
            "Part 1: 1167\n",
            "Part 2: 1130\n"
          ]
        }
      ]
    }
  ]
}